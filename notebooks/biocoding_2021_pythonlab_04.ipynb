{
 "cells": [
  {
   "cell_type": "markdown",
   "metadata": {},
   "source": [
    "# Review of lists, loops, and more...\n",
    "Here is another broken piece of code. Using what you learned from yesterday's lessons \n",
    "\n",
    "* fix what is broken\n",
    "* make comments to explain what is going on line-by-line\n",
    "* if you have time make some improvements!"
   ]
  },
  {
   "cell_type": "code",
   "execution_count": null,
   "metadata": {
    "collapsed": true,
    "scrolled": true
   },
   "outputs": [],
   "source": [
    "# build a random dna sequence...\n",
    "\n",
    "from numpy import random\n",
    "final_sequence_length = eighty\n",
    "initial_sequence_length = 81\n",
    "dna_sequence = ''\n",
    "my_nucleotides = [a,t,g,c]\n",
    "my_nucleotide_probs = [0.25,0.25,0.25,0.3]\n",
    "while initial_sequence_length < final_sequence_length:\n",
    "nucleotide = random.choice(my_nucleotides,p=my_nucleotide_p)\n",
    "dna_sequence =  dna_sequence + nucleotide\n",
    "initial_sequence_length = initial_sequence_length + 1\n",
    "print('>random_sequence (length:%d)\\n%s' % (len(dna_sequence), dna_sequence))"
   ]
  },
  {
   "cell_type": "markdown",
   "metadata": {
    "collapsed": true
   },
   "source": [
    "# Moving on to dictionaries\n",
    "We are just about done with the data structures we will use in this Python course. There are other Python data structures, and many more concepts, but for now we will consider dictionaries:\n",
    "\n",
    "Check the type of ``my_dictionary`` in the cell below"
   ]
  },
  {
   "cell_type": "code",
   "execution_count": null,
   "metadata": {
    "collapsed": true
   },
   "outputs": [],
   "source": [
    "my_dictionary = {}"
   ]
  },
  {
   "cell_type": "markdown",
   "metadata": {},
   "source": [
    "As with lists, a dictionary can be initialized empty, this time with the braces ``{}``. Dictionaries have some properties in common with lists and strings, but there are some key differences. Dictionaries are:\n",
    "\n",
    "* iterable\n",
    "* unordered\n",
    "* indexed (by keys)\n"
   ]
  },
  {
   "cell_type": "markdown",
   "metadata": {},
   "source": [
    "Try printing the following dictionary based on some of the data recorded in a chart we used earlier\n",
    "\n",
    "|Group|Number of Mice|Average Mass(g)|Group Id|\n",
    "|-----|--------------|---------------|--------|\n",
    "|alpha|3|17.0|CGJ28371|\n",
    "|beta|5|16.4|SJW99399|\n",
    "|gamma|6|17.8|PWS29382|\n"
   ]
  },
  {
   "cell_type": "code",
   "execution_count": null,
   "metadata": {
    "collapsed": true
   },
   "outputs": [],
   "source": [
    "my_mouse_exp = {'alpha_id':'CGJ28371',\n",
    "                'alpha_avr_mass':17.0,\n",
    "                'alpha_no_mice':'3'}\n",
    "\n",
    "print(my_mouse_exp)"
   ]
  },
  {
   "cell_type": "markdown",
   "metadata": {},
   "source": [
    "Based on the chart above, add the values for ``Group Id``,``Average Mass(g)``, and ``Number of Mice`` for the ``beta``, an ``gamma`` groups using parallel variable names (e.g. group_id...):"
   ]
  },
  {
   "cell_type": "code",
   "execution_count": null,
   "metadata": {
    "collapsed": true
   },
   "outputs": [],
   "source": [
    "my_mouse_exp = {'alpha_id':'CGJ28371',\n",
    "                'alpha_avr_mass':17.0,\n",
    "                'alpha_no_mice':'3',}"
   ]
  },
  {
   "cell_type": "markdown",
   "metadata": {},
   "source": [
    "You can also explicitly add individual entries to your dictionary:"
   ]
  },
  {
   "cell_type": "code",
   "execution_count": null,
   "metadata": {
    "collapsed": true
   },
   "outputs": [],
   "source": [
    "my_mouse_exp['alpha_experimenter'] = 'CGJ'\n",
    "print(my_mouse_exp)"
   ]
  },
  {
   "cell_type": "markdown",
   "metadata": {},
   "source": [
    "You can also use variables and other string slicing methods we used earlier:"
   ]
  },
  {
   "cell_type": "code",
   "execution_count": null,
   "metadata": {
    "collapsed": true
   },
   "outputs": [],
   "source": [
    "beta_group_id = 'SJW99399'\n",
    "\n",
    "my_mouse_exp['beta_experimenter'] = beta_group_id[0:3]\n",
    "print(my_mouse_exp)"
   ]
  },
  {
   "cell_type": "markdown",
   "metadata": {},
   "source": [
    "One important property of a dictionary is that you can call entries explicitly (rather than referencing indices like 0, 1, or 2). First, here is some terminology for a dictionary object:\n",
    "\n",
    "### dictionary = { key:value }\n",
    "\n",
    "A dictionary consists of some key (this is the name you choose for your entry) and some value (this is the entry itself). Generally keys are strings, but could be almost anything except a list. A value can be just about anything. \n",
    "\n",
    "You can call a specific value from a dictionary by giving its key:"
   ]
  },
  {
   "cell_type": "code",
   "execution_count": null,
   "metadata": {
    "collapsed": true
   },
   "outputs": [],
   "source": [
    "my_mouse_exp['alpha_id']"
   ]
  },
  {
   "cell_type": "markdown",
   "metadata": {},
   "source": [
    "You can also see a list of the keys a dictionary has:"
   ]
  },
  {
   "cell_type": "code",
   "execution_count": null,
   "metadata": {
    "collapsed": true
   },
   "outputs": [],
   "source": [
    "my_mouse_exp.keys()"
   ]
  },
  {
   "cell_type": "markdown",
   "metadata": {},
   "source": [
    "You can also check the values"
   ]
  },
  {
   "cell_type": "code",
   "execution_count": null,
   "metadata": {
    "collapsed": true
   },
   "outputs": [],
   "source": [
    "my_mouse_exp.values()"
   ]
  },
  {
   "cell_type": "markdown",
   "metadata": {},
   "source": [
    "**Challenge:** Your dictionary should contain the key:value pair '`beta_id':'SJW99399'`. Using only that value from the `my_mouse_exp` dictionary, create a new entry in `my_mouse_exp` , `experimenter` which has the value `SJW` extracted from the 'beta_id':`'SJW99399'` dictionary entry. \n",
    "    "
   ]
  },
  {
   "cell_type": "code",
   "execution_count": null,
   "metadata": {
    "collapsed": true
   },
   "outputs": [],
   "source": []
  },
  {
   "cell_type": "markdown",
   "metadata": {},
   "source": [
    "## Translating RNA > Protein\n",
    "\n",
    "RNA codons are translated into amino acids according to a standard genetic code (see chart below); amino acids are represented here by their one-letter abbreviations. \n",
    "![from: http://scienceblogs.com/digitalbio/wp-content/blogs.dir/460/files/2012/04/i-39185d84268023fb77b43bbf9dba06c7-standard%20genetic%20code.png](img/genetic_code.png)"
   ]
  },
  {
   "cell_type": "code",
   "execution_count": null,
   "metadata": {
    "collapsed": true
   },
   "outputs": [],
   "source": [
    "amino_acids = {\n",
    "    'AUA':'I', 'AUC':'I', 'AUU':'I', 'AUG':'M',\n",
    "    'ACA':'T', 'ACC':'T', 'ACG':'T', 'ACU':'T',\n",
    "    'AAC':'N', 'AAU':'N', 'AAA':'K', 'AAG':'K',\n",
    "    'AGC':'S', 'AGU':'S', 'AGA':'R', 'AGG':'R',\n",
    "    'CUA':'L', 'CUC':'L', 'CUG':'L', 'CUU':'L',\n",
    "    'CCA':'P', 'CCC':'P', 'CCG':'P', 'CCU':'P',\n",
    "    'CAC':'H', 'CAU':'H', 'CAA':'Q', 'CAG':'Q',\n",
    "    'CGA':'R', 'CGC':'R', 'CGG':'R', 'CGU':'R',\n",
    "    'GUA':'V', 'GUC':'V', 'GUG':'V', 'GUU':'V',\n",
    "    'GCA':'A', 'GCC':'A', 'GCG':'A', 'GCU':'A',\n",
    "    'GAC':'D', 'GAU':'D', 'GAA':'E', 'GAG':'E',\n",
    "    'GGA':'G', 'GGC':'G', 'GGG':'G', 'GGU':'G',\n",
    "    'UCA':'S', 'UCC':'S', 'UCG':'S', 'UCU':'S',\n",
    "    'UUC':'F', 'UUU':'F', 'UUA':'L', 'UUG':'L',\n",
    "    'UAC':'Y', 'UAU':'Y', 'UAA':'_', 'UAG':'_',\n",
    "    'UGC':'C', 'UGU':'C', 'UGA':'_', 'UGG':'W'\n",
    "}"
   ]
  },
  {
   "cell_type": "markdown",
   "metadata": {},
   "source": [
    "### Using what you have learned so far\n",
    "Write the appropriate code to translate an RNA string to a protein sequence:"
   ]
  },
  {
   "cell_type": "code",
   "execution_count": null,
   "metadata": {
    "collapsed": true
   },
   "outputs": [],
   "source": [
    "rna = 'AUGCAUGCGAAUGCAGCGGCUAGCAGACUGACUGUUAUGCUGGGAUCGUGCCGCUAG'\n",
    "\n",
    "\n",
    "#This may or may not be helpful, but remember\n",
    "#you can iterate over an arbitrary range of elements/numbers\n",
    "#using the range() function\n"
   ]
  },
  {
   "cell_type": "markdown",
   "metadata": {},
   "source": [
    "Does your code work on the following RNA sequence?"
   ]
  },
  {
   "cell_type": "code",
   "execution_count": null,
   "metadata": {
    "collapsed": true
   },
   "outputs": [],
   "source": [
    "rna = 'AUGCAAGACAGGGAUCUAUUUACGAUCAGGCAUCGAUCGAUCGAUGCUAGCUAGCGGGAUCGCACGAUACUAGCCCGAUGCUAGCUUUUAUGCUCGUAGCUGCCCGUACGUUAUUUAGCCUGCUGUGCGAAUGCAGCGGCUAGCAGACUGACUGUUAUGCUGGGAUCGUGCCGCUAG'"
   ]
  },
  {
   "cell_type": "markdown",
   "metadata": {},
   "source": [
    "**Bonus:** Can you translate this sequence in all 3 reading frames?"
   ]
  },
  {
   "cell_type": "code",
   "execution_count": null,
   "metadata": {
    "collapsed": true
   },
   "outputs": [],
   "source": [
    "rna = 'AUGCAAGACAGGGAUCUAUUUACGAUCAGGCAUCGAUCGAUCGAUGCUAGCUAGCGGGAUCGCACGAUACUAGCCCGAUGCUAGCUUUUAUGCUCGUAGCUGCCCGUACGUUAUUUAGCCUGCUGUGCGAAUGCAGCGGCUAGCAGACUGACUGUUAUGCUGGGAUCGUGCCGCUAG'"
   ]
  },
  {
   "cell_type": "markdown",
   "metadata": {},
   "source": [
    "### Translating DNA to RNA TO PROTEIN\n",
    "Now that we have done each of the major biological sequences, you should be able to translate a DNA sequence into an RNA, and a protein"
   ]
  },
  {
   "cell_type": "code",
   "execution_count": null,
   "metadata": {
    "collapsed": true
   },
   "outputs": [],
   "source": [
    "dna = 'ACGTCGTTTACGTACGGGAGTCGTACGATCCTCCCGTAGCTCGGGATCGTTTTATCGTAGCGGGAT'"
   ]
  },
  {
   "cell_type": "markdown",
   "metadata": {},
   "source": [
    "# FUNctions\n",
    "Now that we have learned how to do several thing together, lets wrap them into a function. We have already been using several functions so we can write our own:"
   ]
  },
  {
   "cell_type": "code",
   "execution_count": null,
   "metadata": {
    "collapsed": true
   },
   "outputs": [],
   "source": [
    "def print_double():\n",
    "    print(\"Hello world\")\n",
    "    print(\"Hello world\")\n",
    "    \n",
    "print_double()"
   ]
  },
  {
   "cell_type": "markdown",
   "metadata": {},
   "source": [
    "Two things are happening in this function, let's examine some of its elements:\n",
    "\n",
    "### def function_name( ):<br>• • • •  instruction_block\n",
    "* ``def`` - this special word indicates you are defining a new Python function\n",
    "* ``function_name():`` - this is the arbitrary name for your function, followed by parentheses\n",
    "* • • • •  - 4 space indent\n",
    "* ``instruction_block`` - following an indent, this is a block of instructions. Everything included in this function must be indented to this level. \n",
    "\n",
    "There is also one other element\n",
    "### function_name( ):\n",
    "This line is the function call. As long as a function is defined above this call, the function will be run. \n",
    "\n",
    "fix this code block, and call the function twice:"
   ]
  },
  {
   "cell_type": "code",
   "execution_count": null,
   "metadata": {
    "collapsed": true
   },
   "outputs": [],
   "source": [
    "print_tripple()\n",
    "\n",
    "def print_tripple():\n",
    "    print(\"Hello world\")\n",
    "    print(\"Hello world\")\n",
    "    print(\"Hello world\")"
   ]
  },
  {
   "cell_type": "markdown",
   "metadata": {},
   "source": [
    "### Local vs global\n",
    "One other important element of functions is that variables included in the function, are not defined outside of the function:"
   ]
  },
  {
   "cell_type": "code",
   "execution_count": null,
   "metadata": {
    "collapsed": true
   },
   "outputs": [],
   "source": [
    "def prints_dna_len():\n",
    "    dna = 'gatgcattatcgtgagc'\n",
    "    \n",
    "\n",
    "prints_dna_len()\n",
    "  \n",
    "print(dna)\n",
    "print(len(dna))"
   ]
  },
  {
   "cell_type": "markdown",
   "metadata": {},
   "source": [
    "Variables defined inside the function are *local* to that function. Conversely, variables defined outside of the function, are *global* and are defined everywhere in the block of code. This concept is referred to as [namespace](http://www.python-course.eu/namespaces.php)."
   ]
  },
  {
   "cell_type": "code",
   "execution_count": null,
   "metadata": {
    "collapsed": true
   },
   "outputs": [],
   "source": [
    "more_dna = 'aaatcgatttttttt'\n",
    "\n",
    "def prints_dna_twice():\n",
    "    print(more_dna)\n",
    "    print(more_dna)\n",
    "    \n",
    "prints_dna_twice()"
   ]
  },
  {
   "cell_type": "markdown",
   "metadata": {},
   "source": [
    "### Returning values\n",
    "\n",
    "Functions can also themselves return a value for use in other parts of your code. In this case the ``return`` keyword explicitly returns the value ``rna_1``. "
   ]
  },
  {
   "cell_type": "code",
   "execution_count": null,
   "metadata": {
    "collapsed": true
   },
   "outputs": [],
   "source": [
    "def dna_to_rna():\n",
    "    dna_1 = 'agcttttacgtcgatcctgcta'\n",
    "    rna_1 = dna_1.replace('t','u')\n",
    "    return rna_1\n",
    "\n",
    "\n",
    "print(dna_to_rna())\n",
    "print(type(dna_to_rna()))"
   ]
  },
  {
   "cell_type": "markdown",
   "metadata": {},
   "source": [
    "**Challenge:** Write some functions to do the following:\n",
    "\n",
    "Write a function that calculates the GC content of a DNA string"
   ]
  },
  {
   "cell_type": "code",
   "execution_count": null,
   "metadata": {
    "collapsed": true
   },
   "outputs": [],
   "source": []
  },
  {
   "cell_type": "markdown",
   "metadata": {},
   "source": [
    "Write a function that generates a random string of DNA of random length"
   ]
  },
  {
   "cell_type": "code",
   "execution_count": null,
   "metadata": {
    "collapsed": true
   },
   "outputs": [],
   "source": []
  },
  {
   "cell_type": "markdown",
   "metadata": {},
   "source": [
    "## Arguments (parameters)\n",
    "Functions can also accept one or more arguments (sometimes also called parameters), we could expand our definition like this:\n",
    "\n",
    "### def function_name(argument1, argument2, argumentN):<br>• • • • instruction_block"
   ]
  },
  {
   "cell_type": "markdown",
   "metadata": {},
   "source": [
    "The parameter can have any name: the name of the argument becomes the name of a local variable for used within the function:"
   ]
  },
  {
   "cell_type": "code",
   "execution_count": null,
   "metadata": {
    "collapsed": true
   },
   "outputs": [],
   "source": [
    "def prints_rna_sequence(rna):\n",
    "    if 't' not in rna:\n",
    "        print(rna)\n",
    "    else:\n",
    "        print('this is not rna!')\n",
    "    \n",
    "prints_rna_sequence('agaucgagcuacgua')\n",
    "prints_rna_sequence('atcgcgcatcgatct')\n"
   ]
  },
  {
   "cell_type": "markdown",
   "metadata": {},
   "source": [
    "In the statement above, we tell the function that it should be called with one argument,\n",
    "and that argument should be assigned the value ``rna`` within the function. "
   ]
  },
  {
   "cell_type": "code",
   "execution_count": null,
   "metadata": {
    "collapsed": true
   },
   "outputs": [],
   "source": [
    "prints_rna_sequence()"
   ]
  },
  {
   "cell_type": "code",
   "execution_count": null,
   "metadata": {
    "collapsed": false
   },
   "outputs": [],
   "source": [
    "# We could also do some testing to make sure users give us a string\n",
    "def prints_rna_sequence(rna):\n",
    "    if type.__instancecheck__(str,rna):\n",
    "        print(\"This is a string\")\n",
    "        if 't' not in rna:\n",
    "            print(rna)\n",
    "        else:\n",
    "            print('this is not rna!')\n",
    "    else:\n",
    "        print(\"this is not a string!\")\n",
    "        \n",
    "prints_rna_sequence(3)\n",
    "prints_rna_sequence('atcgcgcatcgatct')"
   ]
  },
  {
   "cell_type": "code",
   "execution_count": null,
   "metadata": {
    "collapsed": true
   },
   "outputs": [],
   "source": [
    "#.find method returns the string index (e.g. string[x]) if the search string is found\n",
    "# my_string = abc\n",
    "# my_string.find('a') would have the value 0 (e.g. string[0])\n",
    "# If there is no match to the search, the .find() function returns -1\n",
    "\n",
    "\n",
    "def print_dna_and_rna(dna,rna):\n",
    "    if dna.find('t')!= -1:\n",
    "        print('here is your dna %s' % dna)\n",
    "    elif dna.find('u')!= -1:\n",
    "        print('This is RNA!: %s' % dna)\n",
    "    if rna.find('t')!= -1:\n",
    "        print('This is DNA!: %s' % rna)\n",
    "    elif rna.find('u')!= -1:\n",
    "        print('here is your rna %s' % rna)\n",
    "\n",
    "\n",
    "print_dna_and_rna('agatccgtcg','uagcugacug')\n",
    "print_dna_and_rna('uagcugacug','agatccgtcg')"
   ]
  },
  {
   "cell_type": "markdown",
   "metadata": {},
   "source": [
    "Function argument can also be made optional. To make a argument optional, you must give it a default value. That value could be the keyword ``None``, an empty value like ``''``, or a default value:"
   ]
  },
  {
   "cell_type": "code",
   "execution_count": null,
   "metadata": {
    "collapsed": false
   },
   "outputs": [],
   "source": [
    "def print_dna_and_rna(dna, rna = '', number_of_times_to_print = 1):\n",
    "    if dna.find('t')!= -1:\n",
    "        print('here is your dna %s \\n' % dna * number_of_times_to_print)\n",
    "    elif dna.find('u')!= -1:\n",
    "        print('This is RNA!: %s \\n' % dna * number_of_times_to_print)\n",
    "    if rna.find('t')!= -1:\n",
    "        print('This is DNA!: %s \\n' % rna * number_of_times_to_print)\n",
    "    elif rna.find('u')!= -1:\n",
    "        print('here is your rna %s \\n'% rna * number_of_times_to_print)\n",
    "\n",
    "print_dna_and_rna('agatccgtcg',)\n",
    "print_dna_and_rna('uagcugacug','agatccgtcg',2)\n",
    "print_dna_and_rna('agatccgtcg', number_of_times_to_print=6)"
   ]
  },
  {
   "cell_type": "markdown",
   "metadata": {},
   "source": [
    "**Challenge:** Write a function that generates a random string of DNA of random a random length: use optional arguments to set the length of the strings and the probabilities of the nucleotides."
   ]
  },
  {
   "cell_type": "code",
   "execution_count": null,
   "metadata": {
    "collapsed": true
   },
   "outputs": [],
   "source": []
  },
  {
   "cell_type": "markdown",
   "metadata": {},
   "source": [
    "**Challenge:** Write a function that generates a random protein of length *L*\n",
    "\n",
    "Function must:\n",
    "    \n",
    "- Build a sequence to a target length *l* specified in the function's arguments\n",
    "- Build the sequence one amino-acid at a time\n",
    "- Only extend the amino-acid sequence when the first randomly generated amino-acid is M (AUG/Start codon)\n",
    "- Restart the construction of a sequence when a stop codon is generated\n",
    "- Keep track of the number of trials (e.g. sequences that did not extend to *L*)"
   ]
  },
  {
   "cell_type": "code",
   "execution_count": null,
   "metadata": {
    "collapsed": true
   },
   "outputs": [],
   "source": []
  }
 ],
 "metadata": {
  "kernelspec": {
   "display_name": "Python 3",
   "language": "python",
   "name": "python3"
  },
  "language_info": {
   "codemirror_mode": {
    "name": "ipython",
    "version": 3
   },
   "file_extension": ".py",
   "mimetype": "text/x-python",
   "name": "python",
   "nbconvert_exporter": "python",
   "pygments_lexer": "ipython3",
   "version": "3.5.3"
  }
 },
 "nbformat": 4,
 "nbformat_minor": 1
}
