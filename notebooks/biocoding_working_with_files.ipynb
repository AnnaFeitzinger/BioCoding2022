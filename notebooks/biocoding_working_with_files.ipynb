{
 "cells": [
  {
   "cell_type": "markdown",
   "metadata": {},
   "source": [
    "# Working with files"
   ]
  },
  {
   "cell_type": "markdown",
   "metadata": {},
   "source": [
    "Until now, we have been working with DNA and other datasets that have been \"hardcoded\" into our notebooks. Typically, \n",
    "information we want to work with will be contained in a file. In this notebook we will introduce working with files, and also moving code we have written into a Python script. "
   ]
  },
  {
   "cell_type": "markdown",
   "metadata": {},
   "source": [
    "First, lets find a file that we can work with using some shell commands: "
   ]
  },
  {
   "cell_type": "code",
   "execution_count": null,
   "metadata": {
    "collapsed": true
   },
   "outputs": [],
   "source": [
    "# see the content of the data directory\n",
    "\n",
    "!ls ~/biocoding-2018/notebooks/data/"
   ]
  },
  {
   "cell_type": "markdown",
   "metadata": {},
   "source": [
    "The `hiv1_genome.txt` file is listed as a text file, but is actually in fasta format"
   ]
  },
  {
   "cell_type": "code",
   "execution_count": null,
   "metadata": {
    "collapsed": true
   },
   "outputs": [],
   "source": [
    "!cat ~/biocoding-2018/notebooks/data/hiv1_genome.txt "
   ]
  },
  {
   "cell_type": "markdown",
   "metadata": {},
   "source": [
    "Once we know the path of a file, we can save it for Python to use; filepaths should be strings. "
   ]
  },
  {
   "cell_type": "code",
   "execution_count": null,
   "metadata": {
    "collapsed": true
   },
   "outputs": [],
   "source": [
    "filepath = \"data/hiv1_genome.txt\""
   ]
  },
  {
   "cell_type": "code",
   "execution_count": null,
   "metadata": {
    "collapsed": true
   },
   "outputs": [],
   "source": [
    "\"\"\"Open a file for reading and print the lines in the file. \n",
    "   If the file can not be opened, raise and error\"\"\"\n",
    "\n",
    "try:\n",
    "    #open a file for reading\n",
    "    with open(filepath,'r') as input_file:\n",
    "        for line in input_file:\n",
    "            print(line)\n",
    "except (IOError):\n",
    "    raise"
   ]
  },
  {
   "cell_type": "markdown",
   "metadata": {},
   "source": [
    "### Asking for user input\n",
    "\n",
    "We can also use the `input()` function to prompt the user for input: "
   ]
  },
  {
   "cell_type": "code",
   "execution_count": null,
   "metadata": {
    "collapsed": true
   },
   "outputs": [],
   "source": [
    "filepath = input(\"Please input a complete file path:\")\n",
    "\n",
    "try:\n",
    "    #open a file for reading\n",
    "    with open(filepath,'r') as input_file:\n",
    "        for line in input_file:\n",
    "            print(line)\n",
    "except (IOError):\n",
    "    raise"
   ]
  },
  {
   "cell_type": "markdown",
   "metadata": {},
   "source": [
    "## Manipulating and writing files\n",
    "\n",
    "Finally, we can manipulate the contents of a file and write the result into a new file:"
   ]
  },
  {
   "cell_type": "code",
   "execution_count": null,
   "metadata": {
    "collapsed": true
   },
   "outputs": [],
   "source": [
    "try:\n",
    "    #open a file for reading\n",
    "    with open(filepath,'r') as input_file:\n",
    "        for line in input_file:\n",
    "            if '>' in line:\n",
    "                fasta_header = line.strip()\n",
    "            else:\n",
    "                sequence = line.strip()\n",
    "except (IOError):\n",
    "    raise\n",
    " \n",
    "# make RNA into DNA\n",
    "\n",
    "dna = sequence.replace('u','t')\n",
    "\n",
    "#write the dna to file\n",
    "with open('./dna_result.fasta','a') as result_file:\n",
    "    result_file.write(fasta_header + '\\n')\n",
    "    result_file.write(dna + '\\n')"
   ]
  },
  {
   "cell_type": "markdown",
   "metadata": {},
   "source": [
    "We can check the contents of the resulting file..."
   ]
  },
  {
   "cell_type": "code",
   "execution_count": null,
   "metadata": {
    "collapsed": true
   },
   "outputs": [],
   "source": [
    "!cat dna_result.fasta"
   ]
  },
  {
   "cell_type": "markdown",
   "metadata": {},
   "source": [
    "### ... Make this into a script\n",
    "\n",
    "Try this using the shell ARGV\n",
    "\n",
    "`from sys import argv`\n",
    "\n",
    "`filepath = argv[1]`"
   ]
  }
 ],
 "metadata": {
  "kernelspec": {
   "display_name": "Python 3",
   "language": "python",
   "name": "python3"
  },
  "language_info": {
   "codemirror_mode": {
    "name": "ipython",
    "version": 3
   },
   "file_extension": ".py",
   "mimetype": "text/x-python",
   "name": "python",
   "nbconvert_exporter": "python",
   "pygments_lexer": "ipython3",
   "version": "3.6.1"
  }
 },
 "nbformat": 4,
 "nbformat_minor": 2
}
