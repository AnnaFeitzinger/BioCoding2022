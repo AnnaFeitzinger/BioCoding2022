{
 "cells": [
  {
   "cell_type": "markdown",
   "metadata": {},
   "source": [
    "## Creating classes in Python \n",
    "\n",
    "So far, we have dealt with data structures (strings, lists, dictionaries) and we have also worked with functions. These items can be combined in Python into something called a class. \n",
    "\n",
    "Formally a class has this definition: \n",
    "\n",
    "- **Class**: a set of attributes that will characterize any object that is instantiated from this class\n",
    "- **Object**: an instance of a class\n",
    "\n",
    "Although this may sound complicated or vague, its actually an extenstion of what we already know. For example:"
   ]
  },
  {
   "cell_type": "code",
   "execution_count": null,
   "metadata": {
    "collapsed": true
   },
   "outputs": [],
   "source": [
    "my_string = \"atgc\"\n",
    "\n",
    "# get the class of my string\n",
    "my_string.__class__.__name__"
   ]
  },
  {
   "cell_type": "markdown",
   "metadata": {},
   "source": [
    "The string class is all of the methods and attributes associated with a string, while any given string is a string object"
   ]
  },
  {
   "cell_type": "code",
   "execution_count": null,
   "metadata": {
    "collapsed": true
   },
   "outputs": [],
   "source": [
    "help(str)"
   ]
  },
  {
   "cell_type": "markdown",
   "metadata": {},
   "source": [
    "If we think of DNA as a class of data we work with, we might want to create attributes and methods that we might \n",
    "associate with DNA data. Let's create a DNA class and give it some attributes. "
   ]
  },
  {
   "cell_type": "code",
   "execution_count": null,
   "metadata": {
    "collapsed": true
   },
   "outputs": [],
   "source": [
    "class DNA:\n",
    "    \n",
    "    \"\"\"We first use a special __init__ function to tell Python how to start the class\n",
    "    in this case we need to input a squence at the instantiation of the class and the \n",
    "    class definition will use this as our sequence\"\"\"\n",
    "    \n",
    "    def __init__(self,sequence):\n",
    "        self.sequence = sequence \n",
    "    \n",
    "    # we will create a dna_length method that will always return the length of our sequence\n",
    "    def dna_length(self):\n",
    "        return len(self.sequence)"
   ]
  },
  {
   "cell_type": "markdown",
   "metadata": {},
   "source": [
    "Now lets create a new object and use the dna_length method"
   ]
  },
  {
   "cell_type": "code",
   "execution_count": null,
   "metadata": {
    "collapsed": true
   },
   "outputs": [],
   "source": [
    "# This will create a DNA object\n",
    "my_dna = DNA(\"agtcactgctgacagctagcgacggcatagcag\")"
   ]
  },
  {
   "cell_type": "markdown",
   "metadata": {},
   "source": [
    "Now we can use a method on that object"
   ]
  },
  {
   "cell_type": "code",
   "execution_count": null,
   "metadata": {
    "collapsed": true
   },
   "outputs": [],
   "source": [
    "my_dna.dna_length()"
   ]
  },
  {
   "cell_type": "markdown",
   "metadata": {},
   "source": [
    "We could expand our class to, for example, give us the count of a given nucleotide:"
   ]
  },
  {
   "cell_type": "code",
   "execution_count": null,
   "metadata": {
    "collapsed": true
   },
   "outputs": [],
   "source": [
    "class DNA:\n",
    "    \n",
    "    \"\"\"We first use a special __init__ function to tell Python how to start the class\n",
    "    in this case we need to input a squence at the instantiation of the class and the \n",
    "    class definition will use this as our sequence\"\"\"\n",
    "    \n",
    "    def __init__(self,sequence):\n",
    "        self.sequence = sequence \n",
    "    \n",
    "    # we will create a dna_length method that will always return the length of our sequence\n",
    "    def dna_length(self):\n",
    "        return len(self.sequence)\n",
    "    \n",
    "    def  aCount(self):\n",
    "        return self.sequence.count('a')"
   ]
  },
  {
   "cell_type": "markdown",
   "metadata": {},
   "source": [
    "After re-defining the class we need to recreate the DNA object. "
   ]
  },
  {
   "cell_type": "code",
   "execution_count": null,
   "metadata": {
    "collapsed": true
   },
   "outputs": [],
   "source": [
    "# This will re-create a DNA object\n",
    "my_dna = DNA(\"agtcactgctgacagctagcgacggcatagcag\")"
   ]
  },
  {
   "cell_type": "markdown",
   "metadata": {},
   "source": [
    "And now we can see now many 'a' nucleotides are in our sequence"
   ]
  },
  {
   "cell_type": "code",
   "execution_count": null,
   "metadata": {
    "collapsed": true
   },
   "outputs": [],
   "source": [
    "my_dna.aCount()"
   ]
  },
  {
   "cell_type": "markdown",
   "metadata": {},
   "source": [
    "### Challenge\n",
    "\n",
    "Expand the DNA class to include the following methods...\n",
    "\n",
    "- Modify the __iinit__ function to raise a warning if a sequence is not DNA\n",
    "- A function that prints DNA sequence in FASTA format\n",
    "- A function for the count of each nucleotide\n",
    "- A function for the GC content\n",
    "- A function that converts DNA into RNA\n",
    "- A function that translates DNA into protein\n",
    "- A function that randomly mutates a nucleotide"
   ]
  },
  {
   "cell_type": "code",
   "execution_count": null,
   "metadata": {
    "collapsed": true
   },
   "outputs": [],
   "source": []
  }
 ],
 "metadata": {
  "kernelspec": {
   "display_name": "Python 3",
   "language": "python",
   "name": "python3"
  },
  "language_info": {
   "codemirror_mode": {
    "name": "ipython",
    "version": 3
   },
   "file_extension": ".py",
   "mimetype": "text/x-python",
   "name": "python",
   "nbconvert_exporter": "python",
   "pygments_lexer": "ipython3",
   "version": "3.6.1"
  }
 },
 "nbformat": 4,
 "nbformat_minor": 2
}
