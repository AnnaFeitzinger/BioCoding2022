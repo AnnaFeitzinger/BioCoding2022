{
 "cells": [
  {
   "cell_type": "markdown",
   "metadata": {},
   "source": [
    "# Lesson 1: Hello World"
   ]
  },
  {
   "cell_type": "markdown",
   "metadata": {},
   "source": [
    "In this lesson, we will start with the very basics of Python using this Jupyter notebook. We can use Python in a variety of methods (at the terminal, using an [IDE](https://en.wikipedia.org/wiki/Integrated_development_environment) etc. However the notebook is a great way to play with Python with the support of lots of helpful notes. Let's start off getting to know Python by writing the classic first programmer's task, 'Hello world'"
   ]
  },
  {
   "cell_type": "code",
   "execution_count": null,
   "metadata": {
    "collapsed": true
   },
   "outputs": [],
   "source": [
    "print(\"Hello world\")"
   ]
  },
  {
   "cell_type": "markdown",
   "metadata": {},
   "source": [
    "To get the output of the above program, select the cell and then click the play button to run the command using Python"
   ]
  },
  {
   "cell_type": "markdown",
   "metadata": {},
   "source": [
    "## Exercise 1: Playing around with printing\n",
    "As you may notice in the code block above a Python keyword 'print' is highlighted in a color (green). We call 'print' a key word because this word has special meaning to Python. Python is considered one of the best languages for new coders to learn because compared to other programming languages it is much more intuitive. In the [C language](https://en.wikipedia.org/wiki/C_%28programming_language%29) for example, printing 'Hello World' would look something like this: \n",
    "\n",
    "\\#include< stdio.h >\n",
    "\n",
    "main()\n",
    "{\n",
    "    printf(\"Hello World\");\n",
    "\n",
    "\n",
    "}\n",
    "\n",
    "Although learning Python (and learning it well) will take effort, you can see why its considered simpler for a new learner. However Python *does* have rules you will have to follow. In the following exercises, let's see what some of these rules are. "
   ]
  },
  {
   "cell_type": "markdown",
   "metadata": {},
   "source": [
    "### In the cell below, write the same program we used above to get the 'Hello World' statement\n",
    "**Do not** copy and paste! Once you have written the line of code, don't forget to hit 'run'"
   ]
  },
  {
   "cell_type": "code",
   "execution_count": null,
   "metadata": {
    "collapsed": true
   },
   "outputs": [],
   "source": [
    "print(\"hello world\")"
   ]
  },
  {
   "cell_type": "markdown",
   "metadata": {},
   "source": [
    "Did you get 'Hello World' - is it capitalized correctly? Is it exactly like the output of the example program?"
   ]
  },
  {
   "cell_type": "markdown",
   "metadata": {},
   "source": [
    "### Below are a few questions and tasks using the 'Hello World' example. Try them out!\n",
    "* Does capitalization matter in Python?\n",
    "* Do single quotes ' or double quotes \" matter in Python?\n",
    "* Does spacing matter in Python\n",
    "\n",
    "Play around with answering these questions (hopefully until you break something)\n",
    "\n",
    "**Tip**: You can reuse any of the empty code blocks. Just rewrite any code and hit play again to rerun the cell. "
   ]
  },
  {
   "cell_type": "markdown",
   "metadata": {},
   "source": [
    "### Capitalization"
   ]
  },
  {
   "cell_type": "code",
   "execution_count": null,
   "metadata": {
    "collapsed": true
   },
   "outputs": [],
   "source": []
  },
  {
   "cell_type": "markdown",
   "metadata": {},
   "source": [
    "### Quotes"
   ]
  },
  {
   "cell_type": "code",
   "execution_count": null,
   "metadata": {
    "collapsed": true
   },
   "outputs": [],
   "source": []
  },
  {
   "cell_type": "markdown",
   "metadata": {},
   "source": [
    "### Spacing"
   ]
  },
  {
   "cell_type": "code",
   "execution_count": null,
   "metadata": {
    "collapsed": true
   },
   "outputs": [],
   "source": []
  },
  {
   "cell_type": "markdown",
   "metadata": {},
   "source": [
    "## Exercise 2: Doing math with Python\n",
    "\n",
    "Another useful feature of Python is doing math:"
   ]
  },
  {
   "cell_type": "code",
   "execution_count": null,
   "metadata": {
    "collapsed": true
   },
   "outputs": [],
   "source": [
    "2 + 2"
   ]
  },
  {
   "cell_type": "markdown",
   "metadata": {},
   "source": [
    "You can use any of several math operators:\n",
    "\n",
    "|Syntax|Math|\n",
    "|------|----|\n",
    "|( )|Parenthesis - think PEMDAS|\n",
    "|a\\*\\*b|exponentiation|\n",
    "|a\\*b|multiplication|\n",
    "|a/b|division|\n",
    "|a+b|addition|\n",
    "|a-b|subtraction|\n",
    "\n",
    "There are a few other special math functions - see [Python basic math](https://en.wikibooks.org/wiki/Python_Programming/Basic_Math)\n",
    "\n",
    "Try some of the math functions below:"
   ]
  },
  {
   "cell_type": "code",
   "execution_count": null,
   "metadata": {
    "collapsed": true
   },
   "outputs": [],
   "source": [
    "# Do some subtraction\n"
   ]
  },
  {
   "cell_type": "code",
   "execution_count": null,
   "metadata": {
    "collapsed": true
   },
   "outputs": [],
   "source": [
    "# Use some parenthesis\n"
   ]
  },
  {
   "cell_type": "code",
   "execution_count": null,
   "metadata": {
    "collapsed": true
   },
   "outputs": [],
   "source": [
    "# Try some division\n"
   ]
  },
  {
   "cell_type": "markdown",
   "metadata": {},
   "source": [
    "## Lesson 2: Variables"
   ]
  },
  {
   "cell_type": "markdown",
   "metadata": {},
   "source": [
    "What makes Python a language is how it uses syntax to hold or express meaning. As mentioned before, Python let's you display messages to use user simply by using the word `print` followed by a message in `\"` marks. Using the `=` sign (called the *assignment operator* ) we instruct Python to store values as variables:"
   ]
  },
  {
   "cell_type": "code",
   "execution_count": null,
   "metadata": {
    "collapsed": true
   },
   "outputs": [],
   "source": [
    "a = 3\n",
    "b = 4\n",
    "c = 5\n",
    "a_squared_plus_b_squared = a**2 + b**2\n",
    "c_squared = c**2\n",
    "print(a_squared_plus_b_squared)\n",
    "print(c_squared)"
   ]
  },
  {
   "cell_type": "markdown",
   "metadata": {
    "solution2": "hidden",
    "solution2_first": true
   },
   "source": [
    "**Challenge:** Solve this equation showing your work using Python:\n",
    "How much 5M NaCl do you need to make 1L of 2.5M NaCl?<br>\n",
    "*hint* Concentration<sub>1</sub> * Volume<sub>1</sub> = Concentration<sub>2</sub> * Volume<sub>2</sub><br>\n",
    "*hint 2* solve for volume 1"
   ]
  },
  {
   "cell_type": "code",
   "execution_count": null,
   "metadata": {
    "collapsed": true,
    "solution2": "hidden"
   },
   "outputs": [],
   "source": [
    "# Set the given variables\n",
    "\n",
    "#Molar\n",
    "start_concentration = \n",
    "final_concentration = \n",
    "\n",
    "#liter \n",
    "final_volume = \n",
    "\n",
    "# Solve for starting volume\n",
    "starting_volume = \n",
    "\n",
    "# Print the answer\n",
    "print(\"You will need to add\", starting_volume, \"liters of NaCl\")"
   ]
  },
  {
   "cell_type": "markdown",
   "metadata": {},
   "source": [
    "## Working with strings"
   ]
  },
  {
   "cell_type": "markdown",
   "metadata": {},
   "source": [
    "Besides math, variables could also be statements. When we put statements in characters, we refer to them as ``strings``, which can be sequences of letters, numbers, symbols, etc. "
   ]
  },
  {
   "cell_type": "code",
   "execution_count": null,
   "metadata": {
    "collapsed": true
   },
   "outputs": [],
   "source": [
    "my_string = 'Hello World'\n",
    "print(my_string)"
   ]
  },
  {
   "cell_type": "markdown",
   "metadata": {},
   "source": [
    "Create the variables and strings in the next codeblock to complete a mini autobiography:"
   ]
  },
  {
   "cell_type": "code",
   "execution_count": null,
   "metadata": {
    "collapsed": true
   },
   "outputs": [],
   "source": [
    "#Populate your variables before the print statements\n",
    "\n",
    "\n",
    "print('My name is: ',my_name)\n",
    "print('My favorite food is: ',my_fav_food)\n",
    "print('The hobby I spend most of my time is: ', my_hobby)\n",
    "print('If I wasn\\'t here, I\\'d probably be: ',my_somewhere_else)\n",
    "print(\"If I wasn't using single quotes, I'd be using double quotes\")\n",
    "\n",
    "#tip, in the last print statement notice that we want to use the ' mark. We use the \n",
    "# 'escape' character \\ to tell Python to ignore that quote mark. \n"
   ]
  },
  {
   "cell_type": "markdown",
   "metadata": {},
   "source": [
    "With math and strings, you can start to do lots of things in Python. More on this in the next lesson. "
   ]
  },
  {
   "cell_type": "code",
   "execution_count": null,
   "metadata": {
    "collapsed": true
   },
   "outputs": [],
   "source": [
    "my_string = \"'ello world \"\n",
    "print(my_string * 10)\n",
    "print(my_string * 100)"
   ]
  },
  {
   "cell_type": "markdown",
   "metadata": {},
   "source": [
    "Want to try something else? Keep going!"
   ]
  },
  {
   "cell_type": "code",
   "execution_count": null,
   "metadata": {
    "collapsed": true
   },
   "outputs": [],
   "source": []
  }
 ],
 "metadata": {
  "kernelspec": {
   "display_name": "Python 3",
   "language": "python",
   "name": "python3"
  },
  "language_info": {
   "codemirror_mode": {
    "name": "ipython",
    "version": 3
   },
   "file_extension": ".py",
   "mimetype": "text/x-python",
   "name": "python",
   "nbconvert_exporter": "python",
   "pygments_lexer": "ipython3",
   "version": "3.5.3"
  }
 },
 "nbformat": 4,
 "nbformat_minor": 1
}
