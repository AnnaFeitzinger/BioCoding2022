{
 "cells": [
  {
   "cell_type": "markdown",
   "metadata": {},
   "source": [
    "\n",
    "## Principle 3 - Distributions: the Normal Distribution\n"
   ]
  },
  {
   "cell_type": "markdown",
   "metadata": {},
   "source": [
    "As it turns out, when we make observations about our data (counting M&M colors, measuring student heights, taking blood pressure reading) we often come across something called the [Normal Distribution](https://en.wikipedia.org/wiki/Normal_distribution). There are several special values and terms, but put very simply, the normal distribution tells us that most of our samples should be about average (that's what average means right). The idea that most things of the same type (students in the same school/grade, cars being made at a factory, etc.) should have lots of similarities. Sometimes (in the case of cars) the individual members of a population should be nearly identical - it would not be good business if a every 5th car assembled was a junker. Although (adult) rabbits might look largely the same to you as a population they do vary (have more [variance](https://en.wikipedia.org/wiki/Variance)), but still they are largely average. \n",
    "\n",
    "In general believing that you are not average may make you susceptible to a type of cognitive fallacy: see [Lake Woebegon effect](https://en.wikipedia.org/wiki/Illusory_superiority). "
   ]
  },
  {
   "cell_type": "markdown",
   "metadata": {},
   "source": [
    "### Python Challenge - calculating the standard deviation\n",
    "\n",
    "In order to understand the graph of the normal distribution we need to define and calculate terms (some of which you are already familiar with). First let's consider some grades for 1st period AP Bio on a test:"
   ]
  },
  {
   "cell_type": "code",
   "execution_count": null,
   "metadata": {
    "collapsed": true
   },
   "outputs": [],
   "source": [
    "first_period = [74,76,86,88,86,96,83,53,99,71,75,73,66,84,62,97,71,69,73,74,84,68,77,37,79,61,81,86,74,62,57]"
   ]
  },
  {
   "cell_type": "markdown",
   "metadata": {},
   "source": [
    "The statistical terms we need to know in order to calculate the distribution are as follows\n",
    "\n",
    "1. **Mean** (µ) = sum of (all of the numbers / number of observations) or **(∑(x_1…x_n))/n**\n",
    "2. **Mean Deviation** = for each of the numbers subtract the number from the mean; sum these results and divide by (one less than the total number of observations or **∑(x-µ)/(n-1)**\n",
    "3. **Variance** = is almost the same as the mean deviation, except you square the sum of (x-µ) or **∑(x-µ)^2/(n-1)**\n",
    "4. **Standard Deviation** = The square root of the variance or **sqrt(∑(x-µ)^2/(n-1))**"
   ]
  },
  {
   "cell_type": "code",
   "execution_count": null,
   "metadata": {
    "collapsed": true
   },
   "outputs": [],
   "source": [
    "#Let's calculate these in Python using a small set of data first\n",
    "\n",
    "subset = [74,76,86,88,86,96]\n"
   ]
  },
  {
   "cell_type": "code",
   "execution_count": null,
   "metadata": {
    "collapsed": true
   },
   "outputs": [],
   "source": [
    "# Calculate mean, first let's get the number of observations:\n",
    "\n",
    "number_of_subset_observations = len(subset)\n",
    "print(number_of_subset_observations)"
   ]
  },
  {
   "cell_type": "code",
   "execution_count": null,
   "metadata": {
    "collapsed": true
   },
   "outputs": [],
   "source": [
    "#Now we want to take all of the values of the list and sum them and divide by the total. \n",
    "# We could do it this way\n",
    "\n",
    "sum_of_subset = subset[0] + subset[1] + subset[2] + subset[3] + subset[4] + subset[5] \n",
    "mean_subset = sum_of_subset/number_of_subset_observations \n",
    "print(mean_subset)"
   ]
  },
  {
   "cell_type": "code",
   "execution_count": null,
   "metadata": {
    "collapsed": true
   },
   "outputs": [],
   "source": [
    "\n",
    "#There is a better way of doing this. We will use a 'For' loop to do the same\n",
    "# operation to each item in our list. First we will create a varbiable to hold our\n",
    "# final answer. Remember data is in the variable 'subset'\n",
    "\n",
    "final_sum = 0\n",
    "\n",
    "for observation in subset:\n",
    "    final_sum = final_sum + observation\n",
    "    \n",
    "print(final_sum)\n"
   ]
  },
  {
   "cell_type": "code",
   "execution_count": null,
   "metadata": {
    "collapsed": true
   },
   "outputs": [],
   "source": [
    "#after the for loop, we can easily calculate the mean\n",
    "\n",
    "for_loop_mean_subset = final_sum/number_of_subset_observations \n",
    "print(for_loop_mean_subset)\n",
    "\n",
    "# Since we don't need the mean deviation directly, we will just caluclate the Varience\n",
    "# to do so we need to take each number, subtract the mean from that number, and sum the results\n",
    "# We could do it this way"
   ]
  },
  {
   "cell_type": "markdown",
   "metadata": {},
   "source": [
    "A for loop has the following structure:\n",
    "\n",
    "### for temporary_variable in itterable :\n",
    "### (indent)instruction[temporary_variable]\n",
    "\n",
    "Let's break this down a bit...\n",
    "\n",
    "* ``for`` - a for loop must start with a for statement\n",
    "* ``temporary_variable`` - the next character(s) right after the ``for`` are actually the name of a special, variable. This variable is a placeholder for the objects that will come next in the loop.\n",
    "* ``in`` - this ``in`` must be included and tells Python what itterable it should execute the for loop on\n",
    "* ``itterable:`` The itterable is any ordered collection (such as a string or a list. A ``:`` must come after the interable.\n",
    "* (indent) - the next line of a for loop must always be indented. The best practice is to use 4 spaces (not the tab key)\n",
    "* ``instruction`` - these are the instructions you want Python to execute. If your instructions make use of the variable (they don't have to) you will use ``temporary_variable`` (whatever you have named it)\n",
    "    "
   ]
  },
  {
   "cell_type": "markdown",
   "metadata": {},
   "source": [
    "### Create a for loop to calculate the varience"
   ]
  },
  {
   "cell_type": "code",
   "execution_count": null,
   "metadata": {
    "collapsed": true,
    "solution2": "hidden",
    "solution2_first": true
   },
   "outputs": [],
   "source": [
    "#You will need the following pieces for your for loop\n",
    "# try your and and then scroll down to a solved cell\n",
    "\n",
    "\n",
    "varience_of_subset = 0 \n",
    "for_loop_mean_subset\n",
    "squared_result\n",
    "number_of_subset_observations_minus1= number_of_subset_observations - 1\n",
    "\n",
    "for observation in subset:\n",
    "    \n",
    "    \n",
    "    \n",
    "    \n",
    "    \n",
    "    \n",
    "    \n",
    "    \n",
    "    \n",
    "    \n",
    "    \n",
    "    \n",
    "    \n",
    "    \n",
    "    \n",
    "    \n",
    "    \n",
    "    \n",
    "    \n",
    "    \n",
    "    "
   ]
  },
  {
   "cell_type": "code",
   "execution_count": null,
   "metadata": {
    "collapsed": true,
    "solution2": "hidden"
   },
   "outputs": [],
   "source": [
    "\n",
    "# Solved\n",
    "\n",
    "varience_of_subset = 0 \n",
    "for_loop_mean_subset\n",
    "observation\n",
    "number_of_subset_observations_minus1= number_of_subset_observations - 1\n",
    "\n",
    "for observation in subset:\n",
    "    squared_result = (observation - for_loop_mean_subset)**2\n",
    "    varience_of_subset = varience_of_subset + squared_result\n",
    "\n",
    "final_varience_of_subset = varience_of_subset/number_of_subset_observations_minus1\n",
    "print('Our calculated value of varience',final_varience_of_subset)\n",
    "\n",
    "\n",
    "#We can check this using a python library\n",
    "\n",
    "import statistics\n",
    "\n",
    "print('Python statistics value for varience',statistics.variance(subset))"
   ]
  },
  {
   "cell_type": "code",
   "execution_count": null,
   "metadata": {
    "collapsed": true
   },
   "outputs": [],
   "source": [
    "# To calculate the standard deviation we just need the square root of the varience\n",
    "\n",
    "# We will import the squar root function from math. \n",
    "import math\n",
    "\n",
    "print(math.sqrt(final_varience_of_subset))\n",
    "print(statistics.stdev(subset))"
   ]
  },
  {
   "cell_type": "code",
   "execution_count": null,
   "metadata": {
    "collapsed": true
   },
   "outputs": [],
   "source": [
    "#We can also graph our data (going back to our whole class)\n",
    "\n",
    "\n",
    "import matplotlib.pyplot as plot\n",
    "import numpy as np\n",
    "import scipy.stats as stats\n",
    "% matplotlib inline"
   ]
  },
  {
   "cell_type": "code",
   "execution_count": null,
   "metadata": {
    "collapsed": true
   },
   "outputs": [],
   "source": [
    "#generate the plot\n",
    "\n",
    "sorted_data = sorted(first_period)\n",
    "fit = stats.norm.pdf(sorted_data, np.mean(sorted_data), np.std(sorted_data))\n",
    "plot.plot(sorted_data,fit,'-o')\n",
    "plot.hist(sorted_data,normed=True)\n",
    "plot.show()"
   ]
  }
 ],
 "metadata": {
  "kernelspec": {
   "display_name": "Python 3",
   "language": "python",
   "name": "python3"
  },
  "language_info": {
   "codemirror_mode": {
    "name": "ipython",
    "version": 3
   },
   "file_extension": ".py",
   "mimetype": "text/x-python",
   "name": "python",
   "nbconvert_exporter": "python",
   "pygments_lexer": "ipython3",
   "version": "3.6.1"
  }
 },
 "nbformat": 4,
 "nbformat_minor": 1
}
